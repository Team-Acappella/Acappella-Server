{
  "cells": [
    {
      "cell_type": "code",
      "execution_count": null,
      "metadata": {
        "id": "o1i_nlO-QY30"
      },
      "outputs": [],
      "source": [
        "singer_name = 'test_kjh_diff' #@param {type: \"string\"}"
      ]
    },
    {
      "cell_type": "code",
      "execution_count": null,
      "metadata": {
        "colab": {
          "base_uri": "https://localhost:8080/"
        },
        "id": "Ajn5uwNiQnPl",
        "outputId": "2b25d9a2-a8da-40c4-bd38-3495fa1ef475"
      },
      "outputs": [],
      "source": [
        "import re\n",
        "\n",
        "%cd \"diff-svc/\"\n",
        "\n",
        "os.environ['PYTHONPATH']='.'\n",
        "\n",
        "!CUDA_VISIBLE_DEVICES=0\n",
        "\n",
        "from utils.hparams import hparams\n",
        "from preprocessing.data_gen_utils import get_pitch_parselmouth,get_pitch_crepe\n",
        "import os\n",
        "import numpy as np\n",
        "import matplotlib.pyplot as plt\n",
        "import IPython.display as ipd\n",
        "import utils\n",
        "import librosa\n",
        "import torchcrepe\n",
        "from infer import *\n",
        "import logging\n",
        "from infer_tools.infer_tool import *\n",
        "\n",
        "print(\"Get Model\")\n",
        "\n",
        "logging.getLogger('numba').setLevel(logging.WARNING)\n",
        "\n",
        "project_name = singer_name\n",
        "# 모델 파일이 저장된 디렉토리 경로\n",
        "model_dir = f'/app/{singer_name}/'\n",
        "\n",
        "# 모든 파일 이름을 가져옵니다.\n",
        "all_files = os.listdir(model_dir)\n",
        "\n",
        "# 'model_ckpt_steps_x.ckpt' 형식의 파일만 걸러냅니다.\n",
        "model_files = [f for f in all_files if re.match(r'model_ckpt_steps_\\d+\\.ckpt', f)]\n",
        "\n",
        "# 파일 이름에서 숫자 부분만 추출하고 이를 정수로 변환합니다.\n",
        "model_nums = [int(re.findall(r'\\d+', f)[0]) for f in model_files]\n",
        "\n",
        "# 가장 큰 숫자를 찾습니다.\n",
        "latest_model_num = max(model_nums)\n",
        "\n",
        "# 가장 큰 숫자를 가진 모델 파일의 이름을 만듭니다.\n",
        "model_path = os.path.join(model_dir, f'model_ckpt_steps_{latest_model_num}.ckpt')\n",
        "print(model_path)\n",
        "config_path=f'/app/{singer_name}/config.yaml'\n",
        "hubert_gpu=True\n",
        "svc_model = Svc(project_name,config_path,hubert_gpu, model_path)\n",
        "print('model loaded')"
      ]
    },
    {
      "cell_type": "code",
      "execution_count": null,
      "metadata": {
        "colab": {
          "base_uri": "https://localhost:8080/"
        },
        "id": "Lbb85xMuQxBF",
        "outputId": "b135a6af-5d18-476e-ea34-19943876c237"
      },
      "outputs": [],
      "source": [
        "import os\n",
        "\n",
        "print(\"Output\")\n",
        "\n",
        "wav_in_folder = \"/content/drive/MyDrive/test_kjh_diff\" #@param {type: \"string\"}\n",
        "\n",
        "# 모든 wav 파일 가져오기\n",
        "wav_in_files = [os.path.join(wav_in_folder, file) for file in os.listdir(wav_in_folder) if file.endswith('.wav')]\n",
        "\n",
        "# 출력 경로 설정\n",
        "output_folder = f\"/content/drive/MyDrive/{singer_name}/result\"\n",
        "if not os.path.exists(output_folder):\n",
        "    os.makedirs(output_folder)  # 경로가 존재하지 않는 경우 폴더 생성\n",
        "key = 0\n",
        "\n",
        "\n",
        "pndm_speedup = 100\n",
        "\n",
        "add_noise_step = 1000\n",
        "\n",
        "thre = 0.05\n",
        "use_crepe= True\n",
        "use_pe=False\n",
        "use_gt_mel= True\n",
        "# 각 입력 파일에 대해 처리\n",
        "# 각 입력 파일에 대해 처리\n",
        "for wav_in in wav_in_files:\n",
        "    # 출력 파일 이름 생성 (입력 파일 이름에 프로젝트 이름 추가)\n",
        "    wav_out_base = os.path.basename(wav_in)  # 입력 파일의 기본 이름 (확장자 포함)\n",
        "    wav_out_base_no_ext = os.path.splitext(wav_out_base)[0]  # 확장자 제거\n",
        "    wav_out = f\"{wav_out_base_no_ext}_{singer_name}.wav\"  # 프로젝트 이름 추가\n",
        "\n",
        "    # 중복된 파일 이름이 존재할 경우 '_re' 추가\n",
        "    while os.path.exists(f\"{output_folder}/{wav_out}\"):\n",
        "        wav_out_base_no_ext = wav_out_base_no_ext + '_re'\n",
        "        wav_out = f\"{wav_out_base_no_ext}_{singer_name}.wav\"\n",
        "\n",
        "    # 모델 실행 및 결과 저장\n",
        "    f0_tst, f0_pred, audio = run_clip(svc_model, file_path=wav_in, key=key, acc=pndm_speedup, use_crepe=use_crepe, use_pe=use_pe, thre=thre, use_gt_mel=use_gt_mel, add_noise_step=add_noise_step, project_name=project_name, out_path=f\"{output_folder}/{wav_out}\")\n"
      ]
    }
  ],
  "metadata": {
    "accelerator": "GPU",
    "colab": {
      "gpuType": "T4",
      "provenance": []
    },
    "kernelspec": {
      "display_name": "Python 3",
      "name": "python3"
    },
    "language_info": {
      "name": "python"
    }
  },
  "nbformat": 4,
  "nbformat_minor": 0
}
